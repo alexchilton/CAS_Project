{
 "cells": [
  {
   "cell_type": "code",
   "execution_count": null,
   "id": "initial_id",
   "metadata": {
    "collapsed": true
   },
   "outputs": [],
   "source": [
    ""
   ]
  },
  {
   "metadata": {
    "ExecuteTime": {
     "end_time": "2024-09-12T09:08:07.604895Z",
     "start_time": "2024-09-12T09:08:00.534180Z"
    }
   },
   "cell_type": "code",
   "source": [
    "import os\n",
    "import numpy as np\n",
    "from PIL import Image\n",
    "import imagehash\n",
    "\n",
    "DIR_REAL_TRAIN = '/Users/alexchilton/Downloads/working/train'\n",
    "DIR_REAL_TEST = '/Users/alexchilton/Downloads/working/test'\n",
    "DIR_REAL_VALIDATION = '/Users/alexchilton/Downloads/working/validation'\n",
    "\n",
    "def load_images_with_hashes(directory):\n",
    "    images_with_hashes = {}\n",
    "    for class_name in os.listdir(directory):\n",
    "        class_path = os.path.join(directory, class_name)\n",
    "        if os.path.isdir(class_path):\n",
    "            images_with_hashes[class_name] = {}\n",
    "            for file_name in os.listdir(class_path):\n",
    "                if file_name.lower().endswith(('.png', '.jpg', '.jpeg')):\n",
    "                    file_path = os.path.join(class_path, file_name)\n",
    "                    try:\n",
    "                        img = Image.open(file_path)\n",
    "                        img = img.convert('RGB')  # Ensure all images are in RGB format\n",
    "                        img_hash = imagehash.average_hash(img)\n",
    "                        images_with_hashes[class_name][file_name] = img_hash\n",
    "                    except Exception as e:\n",
    "                        print(f\"Error loading image {file_path}: {e}\")\n",
    "    return images_with_hashes\n",
    "\n",
    "def find_duplicates(train_hashes, test_hashes):\n",
    "    duplicates = []\n",
    "    for class_name, test_images in test_hashes.items():\n",
    "        train_images = train_hashes.get(class_name, {})\n",
    "        for test_file, test_hash in test_images.items():\n",
    "            for train_file, train_hash in train_images.items():\n",
    "                if test_hash == train_hash:\n",
    "                    duplicates.append((class_name, train_file))\n",
    "    return duplicates\n",
    "\n",
    "def delete_duplicates(duplicates, train_directory):\n",
    "    for class_name, train_file in duplicates:\n",
    "        file_path = os.path.join(train_directory, class_name, train_file)\n",
    "        try:\n",
    "            os.remove(file_path)\n",
    "            print(f\"Deleted duplicate file: {file_path}\")\n",
    "        except Exception as e:\n",
    "            print(f\"Error deleting file {file_path}: {e}\")\n",
    "\n",
    "# Load images and compute hashes\n",
    "train_hashes = load_images_with_hashes(DIR_REAL_TRAIN)\n",
    "test_hashes = load_images_with_hashes(DIR_REAL_TEST)\n",
    "\n",
    "# Find duplicates\n",
    "duplicates = find_duplicates(train_hashes, test_hashes)\n",
    "\n",
    "# Delete duplicates\n",
    "delete_duplicates(duplicates, DIR_REAL_TRAIN)"
   ],
   "id": "f06cbb05b1c078e4",
   "outputs": [
    {
     "name": "stderr",
     "output_type": "stream",
     "text": [
      "/opt/anaconda3/envs/GPU/lib/python3.8/site-packages/PIL/Image.py:1056: UserWarning: Palette images with Transparency expressed in bytes should be converted to RGBA images\n",
      "  warnings.warn(\n"
     ]
    },
    {
     "ename": "KeyboardInterrupt",
     "evalue": "",
     "output_type": "error",
     "traceback": [
      "\u001B[0;31m---------------------------------------------------------------------------\u001B[0m",
      "\u001B[0;31mKeyboardInterrupt\u001B[0m                         Traceback (most recent call last)",
      "Cell \u001B[0;32mIn[1], line 48\u001B[0m\n\u001B[1;32m     45\u001B[0m             \u001B[38;5;28mprint\u001B[39m(\u001B[38;5;124mf\u001B[39m\u001B[38;5;124m\"\u001B[39m\u001B[38;5;124mError deleting file \u001B[39m\u001B[38;5;132;01m{\u001B[39;00mfile_path\u001B[38;5;132;01m}\u001B[39;00m\u001B[38;5;124m: \u001B[39m\u001B[38;5;132;01m{\u001B[39;00me\u001B[38;5;132;01m}\u001B[39;00m\u001B[38;5;124m\"\u001B[39m)\n\u001B[1;32m     47\u001B[0m \u001B[38;5;66;03m# Load images and compute hashes\u001B[39;00m\n\u001B[0;32m---> 48\u001B[0m train_hashes \u001B[38;5;241m=\u001B[39m \u001B[43mload_images_with_hashes\u001B[49m\u001B[43m(\u001B[49m\u001B[43mDIR_REAL_TRAIN\u001B[49m\u001B[43m)\u001B[49m\n\u001B[1;32m     49\u001B[0m test_hashes \u001B[38;5;241m=\u001B[39m load_images_with_hashes(DIR_REAL_TEST)\n\u001B[1;32m     51\u001B[0m \u001B[38;5;66;03m# Find duplicates\u001B[39;00m\n",
      "Cell \u001B[0;32mIn[1], line 21\u001B[0m, in \u001B[0;36mload_images_with_hashes\u001B[0;34m(directory)\u001B[0m\n\u001B[1;32m     19\u001B[0m \u001B[38;5;28;01mtry\u001B[39;00m:\n\u001B[1;32m     20\u001B[0m     img \u001B[38;5;241m=\u001B[39m Image\u001B[38;5;241m.\u001B[39mopen(file_path)\n\u001B[0;32m---> 21\u001B[0m     img \u001B[38;5;241m=\u001B[39m \u001B[43mimg\u001B[49m\u001B[38;5;241;43m.\u001B[39;49m\u001B[43mconvert\u001B[49m\u001B[43m(\u001B[49m\u001B[38;5;124;43m'\u001B[39;49m\u001B[38;5;124;43mRGB\u001B[39;49m\u001B[38;5;124;43m'\u001B[39;49m\u001B[43m)\u001B[49m  \u001B[38;5;66;03m# Ensure all images are in RGB format\u001B[39;00m\n\u001B[1;32m     22\u001B[0m     img_hash \u001B[38;5;241m=\u001B[39m imagehash\u001B[38;5;241m.\u001B[39maverage_hash(img)\n\u001B[1;32m     23\u001B[0m     images_with_hashes[class_name][file_name] \u001B[38;5;241m=\u001B[39m img_hash\n",
      "File \u001B[0;32m/opt/anaconda3/envs/GPU/lib/python3.8/site-packages/PIL/Image.py:995\u001B[0m, in \u001B[0;36mImage.convert\u001B[0;34m(self, mode, matrix, dither, palette, colors)\u001B[0m\n\u001B[1;32m    992\u001B[0m \u001B[38;5;28;01mif\u001B[39;00m mode \u001B[38;5;129;01min\u001B[39;00m (\u001B[38;5;124m\"\u001B[39m\u001B[38;5;124mBGR;15\u001B[39m\u001B[38;5;124m\"\u001B[39m, \u001B[38;5;124m\"\u001B[39m\u001B[38;5;124mBGR;16\u001B[39m\u001B[38;5;124m\"\u001B[39m, \u001B[38;5;124m\"\u001B[39m\u001B[38;5;124mBGR;24\u001B[39m\u001B[38;5;124m\"\u001B[39m):\n\u001B[1;32m    993\u001B[0m     deprecate(mode, \u001B[38;5;241m12\u001B[39m)\n\u001B[0;32m--> 995\u001B[0m \u001B[38;5;28;43mself\u001B[39;49m\u001B[38;5;241;43m.\u001B[39;49m\u001B[43mload\u001B[49m\u001B[43m(\u001B[49m\u001B[43m)\u001B[49m\n\u001B[1;32m    997\u001B[0m has_transparency \u001B[38;5;241m=\u001B[39m \u001B[38;5;124m\"\u001B[39m\u001B[38;5;124mtransparency\u001B[39m\u001B[38;5;124m\"\u001B[39m \u001B[38;5;129;01min\u001B[39;00m \u001B[38;5;28mself\u001B[39m\u001B[38;5;241m.\u001B[39minfo\n\u001B[1;32m    998\u001B[0m \u001B[38;5;28;01mif\u001B[39;00m \u001B[38;5;129;01mnot\u001B[39;00m mode \u001B[38;5;129;01mand\u001B[39;00m \u001B[38;5;28mself\u001B[39m\u001B[38;5;241m.\u001B[39mmode \u001B[38;5;241m==\u001B[39m \u001B[38;5;124m\"\u001B[39m\u001B[38;5;124mP\u001B[39m\u001B[38;5;124m\"\u001B[39m:\n\u001B[1;32m    999\u001B[0m     \u001B[38;5;66;03m# determine default mode\u001B[39;00m\n",
      "File \u001B[0;32m/opt/anaconda3/envs/GPU/lib/python3.8/site-packages/PIL/ImageFile.py:240\u001B[0m, in \u001B[0;36mImageFile.load\u001B[0;34m(self)\u001B[0m\n\u001B[1;32m    237\u001B[0m         \u001B[38;5;28;01mexcept\u001B[39;00m (\u001B[38;5;167;01mAttributeError\u001B[39;00m, \u001B[38;5;167;01mOSError\u001B[39;00m, \u001B[38;5;167;01mImportError\u001B[39;00m):\n\u001B[1;32m    238\u001B[0m             \u001B[38;5;28mself\u001B[39m\u001B[38;5;241m.\u001B[39mmap \u001B[38;5;241m=\u001B[39m \u001B[38;5;28;01mNone\u001B[39;00m\n\u001B[0;32m--> 240\u001B[0m \u001B[38;5;28;43mself\u001B[39;49m\u001B[38;5;241;43m.\u001B[39;49m\u001B[43mload_prepare\u001B[49m\u001B[43m(\u001B[49m\u001B[43m)\u001B[49m\n\u001B[1;32m    241\u001B[0m err_code \u001B[38;5;241m=\u001B[39m \u001B[38;5;241m-\u001B[39m\u001B[38;5;241m3\u001B[39m  \u001B[38;5;66;03m# initialize to unknown error\u001B[39;00m\n\u001B[1;32m    242\u001B[0m \u001B[38;5;28;01mif\u001B[39;00m \u001B[38;5;129;01mnot\u001B[39;00m \u001B[38;5;28mself\u001B[39m\u001B[38;5;241m.\u001B[39mmap:\n\u001B[1;32m    243\u001B[0m     \u001B[38;5;66;03m# sort tiles in file order\u001B[39;00m\n",
      "File \u001B[0;32m/opt/anaconda3/envs/GPU/lib/python3.8/site-packages/PIL/ImageFile.py:319\u001B[0m, in \u001B[0;36mImageFile.load_prepare\u001B[0;34m(self)\u001B[0m\n\u001B[1;32m    316\u001B[0m \u001B[38;5;28;01mdef\u001B[39;00m \u001B[38;5;21mload_prepare\u001B[39m(\u001B[38;5;28mself\u001B[39m) \u001B[38;5;241m-\u001B[39m\u001B[38;5;241m>\u001B[39m \u001B[38;5;28;01mNone\u001B[39;00m:\n\u001B[1;32m    317\u001B[0m     \u001B[38;5;66;03m# create image memory if necessary\u001B[39;00m\n\u001B[1;32m    318\u001B[0m     \u001B[38;5;28;01mif\u001B[39;00m \u001B[38;5;129;01mnot\u001B[39;00m \u001B[38;5;28mself\u001B[39m\u001B[38;5;241m.\u001B[39mim \u001B[38;5;129;01mor\u001B[39;00m \u001B[38;5;28mself\u001B[39m\u001B[38;5;241m.\u001B[39mim\u001B[38;5;241m.\u001B[39mmode \u001B[38;5;241m!=\u001B[39m \u001B[38;5;28mself\u001B[39m\u001B[38;5;241m.\u001B[39mmode \u001B[38;5;129;01mor\u001B[39;00m \u001B[38;5;28mself\u001B[39m\u001B[38;5;241m.\u001B[39mim\u001B[38;5;241m.\u001B[39msize \u001B[38;5;241m!=\u001B[39m \u001B[38;5;28mself\u001B[39m\u001B[38;5;241m.\u001B[39msize:\n\u001B[0;32m--> 319\u001B[0m         \u001B[38;5;28mself\u001B[39m\u001B[38;5;241m.\u001B[39mim \u001B[38;5;241m=\u001B[39m \u001B[43mImage\u001B[49m\u001B[38;5;241;43m.\u001B[39;49m\u001B[43mcore\u001B[49m\u001B[38;5;241;43m.\u001B[39;49m\u001B[43mnew\u001B[49m\u001B[43m(\u001B[49m\u001B[38;5;28;43mself\u001B[39;49m\u001B[38;5;241;43m.\u001B[39;49m\u001B[43mmode\u001B[49m\u001B[43m,\u001B[49m\u001B[43m \u001B[49m\u001B[38;5;28;43mself\u001B[39;49m\u001B[38;5;241;43m.\u001B[39;49m\u001B[43msize\u001B[49m\u001B[43m)\u001B[49m\n\u001B[1;32m    320\u001B[0m     \u001B[38;5;66;03m# create palette (optional)\u001B[39;00m\n\u001B[1;32m    321\u001B[0m     \u001B[38;5;28;01mif\u001B[39;00m \u001B[38;5;28mself\u001B[39m\u001B[38;5;241m.\u001B[39mmode \u001B[38;5;241m==\u001B[39m \u001B[38;5;124m\"\u001B[39m\u001B[38;5;124mP\u001B[39m\u001B[38;5;124m\"\u001B[39m:\n",
      "\u001B[0;31mKeyboardInterrupt\u001B[0m: "
     ]
    }
   ],
   "execution_count": 1
  }
 ],
 "metadata": {
  "kernelspec": {
   "display_name": "Python 3",
   "language": "python",
   "name": "python3"
  },
  "language_info": {
   "codemirror_mode": {
    "name": "ipython",
    "version": 2
   },
   "file_extension": ".py",
   "mimetype": "text/x-python",
   "name": "python",
   "nbconvert_exporter": "python",
   "pygments_lexer": "ipython2",
   "version": "2.7.6"
  }
 },
 "nbformat": 4,
 "nbformat_minor": 5
}
